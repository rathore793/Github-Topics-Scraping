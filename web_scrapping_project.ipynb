{
 "cells": [
  {
   "cell_type": "markdown",
   "id": "75973cfd",
   "metadata": {},
   "source": [
    "# Scraping Top Repositories for Topics on GitHub"
   ]
  },
  {
   "cell_type": "markdown",
   "id": "c9c8715a",
   "metadata": {},
   "source": [
    "### Github\n",
    "\n",
    "GitHub is an Internet hosting service for software development and version control using Git. It provides the distributed version control of Git plus access control, bug tracking, software feature requests, task management, continuous integration, and wikis for every project. Headquartered in California, it has been a subsidiary of Microsoft since 2018.\n",
    "\n",
    "It is commonly used to host open source software development projects. As of January 2023, GitHub reported having over 100 million developers and more than 372 million repositories, including at least 28 million public repositories. It is the largest source code host as of November 2021.\n",
    "\n",
    "### Web Scraping\n",
    "\n",
    "Web scraping, web harvesting, or web data extraction is data scraping used for extracting data from websites. Web scraping software may directly access the World Wide Web using the Hypertext Transfer Protocol or a web browser. While web scraping can be done manually by a software user, the term typically refers to automated processes implemented using a bot or web crawler. It is a form of copying in which specific data is gathered and copied from the web, typically into a central local database or spreadsheet, for later retrieval or analysis.\n"
   ]
  },
  {
   "cell_type": "markdown",
   "id": "8c703dcb",
   "metadata": {},
   "source": [
    "#### Steps to follow to complete the task\n",
    "\n",
    "- We'll scrape the github repositories topic page: https://github.com/topics with the help of python requests and BeautifulSoup Library.\n",
    "- We'll create a list of all the topics with description and their Url and save it into the pandas dataframe.\n",
    "- Each topic is further scraped, and extracting the username, their repo title, repo urls and number of stars they recieved.\n",
    "- Saving the whole data in data folder with topic_name.csv with the below format:\n",
    "\n",
    "Repo Name,Username,Stars,Repo URL<br>\n",
    "three.js,mrdoob,69700,https://github.com/mrdoob/three.js<br>\n",
    "libgdx,libgdx,18300,https://github.com/libgdx/libgdx"
   ]
  },
  {
   "cell_type": "code",
   "execution_count": 1,
   "id": "b9d212ba",
   "metadata": {},
   "outputs": [],
   "source": [
    "#Importing Required Libraries\n",
    "import pandas as pd\n",
    "import requests\n",
    "from bs4 import BeautifulSoup\n",
    "import os"
   ]
  },
  {
   "cell_type": "code",
   "execution_count": 2,
   "id": "9a11e21d",
   "metadata": {},
   "outputs": [],
   "source": [
    "#Base Url\n",
    "base_url = 'https://github.com/topics'"
   ]
  },
  {
   "cell_type": "markdown",
   "id": "97ae7289",
   "metadata": {},
   "source": [
    "`get_page_content(url)` will give us the content of the url in html format which can be scraped using BeautifulSoup"
   ]
  },
  {
   "cell_type": "code",
   "execution_count": 3,
   "id": "175b9af1",
   "metadata": {},
   "outputs": [],
   "source": [
    "#Get the content of any webpage using BeautifulSoup\n",
    "def get_page_content(url):\n",
    "    response = requests.get(url)\n",
    "    #Check if the request is successfully made or not\n",
    "    if response.status_code != 200:\n",
    "        raise Exception(\"Failed to load {}\".format(url))\n",
    "    #parse the content using beautifulsoup\n",
    "    content = BeautifulSoup(response.text, 'html.parser')\n",
    "    return content\n"
   ]
  },
  {
   "cell_type": "markdown",
   "id": "e1441697",
   "metadata": {},
   "source": [
    "`get_topic_dataframe(url)` function will scrape the content of the webpage with BeautifulSoup and save it into dataframe using Pandas. We can use the selectors to get the required tags from the webpage as shown in example below:"
   ]
  },
  {
   "cell_type": "markdown",
   "id": "bf994401",
   "metadata": {},
   "source": [
    "<img src=\"https://i.imgur.com/ThmwRM3.png\" title=\"Selector\"/>"
   ]
  },
  {
   "cell_type": "code",
   "execution_count": 4,
   "id": "4542a3da",
   "metadata": {},
   "outputs": [],
   "source": [
    "#Get topic dataframe with topic name, description and the URL\n",
    "def get_topic_dataframe(url):\n",
    "    #Using selector to select the tag on a webpage\n",
    "    topic_selector = 'no-underline flex-1 d-flex flex-column'\n",
    "    topic_tags = get_page_content(url).find_all('a' , {'class': topic_selector})\n",
    "    \n",
    "    #Empty Dictionary to store the topic details\n",
    "    topics_dict = {\"Topic\":[], 'Description':[], 'URL':[]}\n",
    "    for i in range(len(topic_tags)):\n",
    "        topics_dict['Topic'].append(topic_tags[i].contents[1].text.strip())\n",
    "        topics_dict['Description'].append(topic_tags[i].contents[3].text.strip())\n",
    "        topics_dict['URL'].append(f'https://github.com{topic_tags[i][\"href\"]}')\n",
    "    \n",
    "    #Creating DataFrame of the dictionary\n",
    "    topics_df = pd.DataFrame(topics_dict, index=None)\n",
    "    return topics_df\n"
   ]
  },
  {
   "cell_type": "markdown",
   "id": "093dc748",
   "metadata": {},
   "source": [
    "__Below Examples shows dataframe created using `get_topic_dataframe(url)` function__"
   ]
  },
  {
   "cell_type": "code",
   "execution_count": 5,
   "id": "287e87e5",
   "metadata": {},
   "outputs": [
    {
     "data": {
      "text/html": [
       "<div>\n",
       "<style scoped>\n",
       "    .dataframe tbody tr th:only-of-type {\n",
       "        vertical-align: middle;\n",
       "    }\n",
       "\n",
       "    .dataframe tbody tr th {\n",
       "        vertical-align: top;\n",
       "    }\n",
       "\n",
       "    .dataframe thead th {\n",
       "        text-align: right;\n",
       "    }\n",
       "</style>\n",
       "<table border=\"1\" class=\"dataframe\">\n",
       "  <thead>\n",
       "    <tr style=\"text-align: right;\">\n",
       "      <th></th>\n",
       "      <th>Topic</th>\n",
       "      <th>Description</th>\n",
       "      <th>URL</th>\n",
       "    </tr>\n",
       "  </thead>\n",
       "  <tbody>\n",
       "    <tr>\n",
       "      <th>0</th>\n",
       "      <td>3D</td>\n",
       "      <td>3D refers to the use of three-dimensional grap...</td>\n",
       "      <td>https://github.com/topics/3d</td>\n",
       "    </tr>\n",
       "    <tr>\n",
       "      <th>1</th>\n",
       "      <td>Ajax</td>\n",
       "      <td>Ajax is a technique for creating interactive w...</td>\n",
       "      <td>https://github.com/topics/ajax</td>\n",
       "    </tr>\n",
       "    <tr>\n",
       "      <th>2</th>\n",
       "      <td>Algorithm</td>\n",
       "      <td>Algorithms are self-contained sequences that c...</td>\n",
       "      <td>https://github.com/topics/algorithm</td>\n",
       "    </tr>\n",
       "    <tr>\n",
       "      <th>3</th>\n",
       "      <td>Amp</td>\n",
       "      <td>Amp is a non-blocking concurrency library for ...</td>\n",
       "      <td>https://github.com/topics/amphp</td>\n",
       "    </tr>\n",
       "    <tr>\n",
       "      <th>4</th>\n",
       "      <td>Android</td>\n",
       "      <td>Android is an operating system built by Google...</td>\n",
       "      <td>https://github.com/topics/android</td>\n",
       "    </tr>\n",
       "  </tbody>\n",
       "</table>\n",
       "</div>"
      ],
      "text/plain": [
       "       Topic                                        Description  \\\n",
       "0         3D  3D refers to the use of three-dimensional grap...   \n",
       "1       Ajax  Ajax is a technique for creating interactive w...   \n",
       "2  Algorithm  Algorithms are self-contained sequences that c...   \n",
       "3        Amp  Amp is a non-blocking concurrency library for ...   \n",
       "4    Android  Android is an operating system built by Google...   \n",
       "\n",
       "                                   URL  \n",
       "0         https://github.com/topics/3d  \n",
       "1       https://github.com/topics/ajax  \n",
       "2  https://github.com/topics/algorithm  \n",
       "3      https://github.com/topics/amphp  \n",
       "4    https://github.com/topics/android  "
      ]
     },
     "execution_count": 5,
     "metadata": {},
     "output_type": "execute_result"
    }
   ],
   "source": [
    "#Example dataframe\n",
    "get_topic_dataframe(base_url).head(5)"
   ]
  },
  {
   "cell_type": "markdown",
   "id": "abed0a9d",
   "metadata": {},
   "source": [
    "`get_repo_info(topic_url)` this function will give us the username, repositories name, repo URLs and Stars they received in the form of dataframe which can later be saved into csv file."
   ]
  },
  {
   "cell_type": "code",
   "execution_count": 6,
   "id": "c24a5529",
   "metadata": {},
   "outputs": [],
   "source": [
    "#Function to get top repositories information for each topic in DataFrame\n",
    "def get_repo_info(topic_url):\n",
    "\n",
    "    #User and Star Selectors for selecting tags for scrapping.\n",
    "    user_selector = 'f3 color-fg-muted text-normal lh-condensed'\n",
    "    star_selector = 'repo-stars-counter-star'\n",
    "    users = get_page_content(topic_url).find_all('h3', {'class': user_selector})\n",
    "    stars = get_page_content(topic_url).find_all(id = star_selector)\n",
    "    \n",
    "    #User Dictionary to save the username, repository name, repository Urls and number of stars they receieved\n",
    "    user_dict = {\"Username\":[], 'Repo Name':[], 'Repo URL':[], 'Stars': []}\n",
    "    for i in range(len(users)):\n",
    "        a_tags = users[i].find_all('a')\n",
    "        user_dict['Username'].append(a_tags[0].text.strip())\n",
    "        user_dict['Repo Name'].append(a_tags[1].text.strip())\n",
    "        user_dict['Repo URL'].append(base_url + a_tags[1]['href']) \n",
    "        user_dict['Stars'].append(get_stars(stars[i]))\n",
    "    return pd.DataFrame(user_dict)\n"
   ]
  },
  {
   "cell_type": "markdown",
   "id": "70cdcd14",
   "metadata": {},
   "source": [
    "- ##### Following function will give us the number of stars any repositoriy received in Interger number."
   ]
  },
  {
   "cell_type": "code",
   "execution_count": 7,
   "id": "5a6d0276",
   "metadata": {},
   "outputs": [],
   "source": [
    "#Function to get the number of stars in Integer format\n",
    "def get_stars(star_tag):\n",
    "    if star_tag.text[-1]=='k':\n",
    "        return int(float(star_tag.text[:-1]) * 1000)\n",
    "    return int(star_tag.text[:-1])"
   ]
  },
  {
   "cell_type": "markdown",
   "id": "d34c9f16",
   "metadata": {},
   "source": [
    "__Below Examples shows dataframe created using `get_repo_info(topic_url)` function__"
   ]
  },
  {
   "cell_type": "code",
   "execution_count": 8,
   "id": "d6ea0c61",
   "metadata": {},
   "outputs": [
    {
     "data": {
      "text/html": [
       "<div>\n",
       "<style scoped>\n",
       "    .dataframe tbody tr th:only-of-type {\n",
       "        vertical-align: middle;\n",
       "    }\n",
       "\n",
       "    .dataframe tbody tr th {\n",
       "        vertical-align: top;\n",
       "    }\n",
       "\n",
       "    .dataframe thead th {\n",
       "        text-align: right;\n",
       "    }\n",
       "</style>\n",
       "<table border=\"1\" class=\"dataframe\">\n",
       "  <thead>\n",
       "    <tr style=\"text-align: right;\">\n",
       "      <th></th>\n",
       "      <th>Username</th>\n",
       "      <th>Repo Name</th>\n",
       "      <th>Repo URL</th>\n",
       "      <th>Stars</th>\n",
       "    </tr>\n",
       "  </thead>\n",
       "  <tbody>\n",
       "    <tr>\n",
       "      <th>0</th>\n",
       "      <td>mrdoob</td>\n",
       "      <td>three.js</td>\n",
       "      <td>https://github.com/topics/mrdoob/three.js</td>\n",
       "      <td>92600</td>\n",
       "    </tr>\n",
       "    <tr>\n",
       "      <th>1</th>\n",
       "      <td>pmndrs</td>\n",
       "      <td>react-three-fiber</td>\n",
       "      <td>https://github.com/topics/pmndrs/react-three-f...</td>\n",
       "      <td>22900</td>\n",
       "    </tr>\n",
       "    <tr>\n",
       "      <th>2</th>\n",
       "      <td>libgdx</td>\n",
       "      <td>libgdx</td>\n",
       "      <td>https://github.com/topics/libgdx/libgdx</td>\n",
       "      <td>21600</td>\n",
       "    </tr>\n",
       "    <tr>\n",
       "      <th>3</th>\n",
       "      <td>BabylonJS</td>\n",
       "      <td>Babylon.js</td>\n",
       "      <td>https://github.com/topics/BabylonJS/Babylon.js</td>\n",
       "      <td>20800</td>\n",
       "    </tr>\n",
       "    <tr>\n",
       "      <th>4</th>\n",
       "      <td>ssloy</td>\n",
       "      <td>tinyrenderer</td>\n",
       "      <td>https://github.com/topics/ssloy/tinyrenderer</td>\n",
       "      <td>17100</td>\n",
       "    </tr>\n",
       "  </tbody>\n",
       "</table>\n",
       "</div>"
      ],
      "text/plain": [
       "    Username          Repo Name  \\\n",
       "0     mrdoob           three.js   \n",
       "1     pmndrs  react-three-fiber   \n",
       "2     libgdx             libgdx   \n",
       "3  BabylonJS         Babylon.js   \n",
       "4      ssloy       tinyrenderer   \n",
       "\n",
       "                                            Repo URL  Stars  \n",
       "0          https://github.com/topics/mrdoob/three.js  92600  \n",
       "1  https://github.com/topics/pmndrs/react-three-f...  22900  \n",
       "2            https://github.com/topics/libgdx/libgdx  21600  \n",
       "3     https://github.com/topics/BabylonJS/Babylon.js  20800  \n",
       "4       https://github.com/topics/ssloy/tinyrenderer  17100  "
      ]
     },
     "execution_count": 8,
     "metadata": {},
     "output_type": "execute_result"
    }
   ],
   "source": [
    "get_repo_info(f'{base_url}/3d').head(5)"
   ]
  },
  {
   "cell_type": "markdown",
   "id": "3fc69c65",
   "metadata": {},
   "source": [
    "`scrape_each_topics(topic_url, path)` it saves the users dataframe content into CSV for each topic post checking the already existence of the file."
   ]
  },
  {
   "cell_type": "code",
   "execution_count": 9,
   "id": "abda5378",
   "metadata": {},
   "outputs": [],
   "source": [
    "#Function to scrape each topic and saving it in CSV file\n",
    "def scrape_each_topics(topic_url, path):\n",
    "    \n",
    "    #Checking whether file already exist or not.\n",
    "    if os.path.exists(path):\n",
    "        print(\"file {} already Exist, Skipping...\".format(path))\n",
    "        return\n",
    "    \n",
    "    #Getting user repository information using get_repo_info function\n",
    "    user_repo_df = get_repo_info(topic_url)\n",
    "    return user_repo_df.to_csv(path, index=None)"
   ]
  },
  {
   "cell_type": "markdown",
   "id": "39ef1c3e",
   "metadata": {},
   "source": [
    "We have `get_repo_info(topic_url)` function to get dataframe of users repositotries and we have `scrape_each_topics(topic_url, path)` to save the data into csv, let's create another function to combine every function `scrape_github_topics()` into one to perform our final step."
   ]
  },
  {
   "cell_type": "code",
   "execution_count": 10,
   "id": "0f20e09f",
   "metadata": {},
   "outputs": [],
   "source": [
    "#Final function to combine all the existing function\n",
    "def scrape_github_topics():\n",
    "    topics_df = get_topic_dataframe(base_url)\n",
    "    \n",
    "    #Creating directory to save all the topics CSVs\n",
    "    os.makedirs('data', exist_ok=True)\n",
    "    for index, row in topics_df.iterrows():\n",
    "        print('Scraping top repositories for \"{}\"'.format(row['Topic']))\n",
    "        scrape_each_topics(row['URL'], f'data/{row[\"Topic\"]}.csv')\n",
    "        "
   ]
  },
  {
   "cell_type": "code",
   "execution_count": 11,
   "id": "8d493fd4",
   "metadata": {},
   "outputs": [
    {
     "name": "stdout",
     "output_type": "stream",
     "text": [
      "Scraping top repositories for \"3D\"\n",
      "Scraping top repositories for \"Ajax\"\n",
      "Scraping top repositories for \"Algorithm\"\n",
      "Scraping top repositories for \"Amp\"\n",
      "Scraping top repositories for \"Android\"\n",
      "Scraping top repositories for \"Angular\"\n",
      "Scraping top repositories for \"Ansible\"\n",
      "Scraping top repositories for \"API\"\n",
      "Scraping top repositories for \"Arduino\"\n",
      "Scraping top repositories for \"ASP.NET\"\n",
      "Scraping top repositories for \"Atom\"\n",
      "Scraping top repositories for \"Awesome Lists\"\n",
      "Scraping top repositories for \"Amazon Web Services\"\n",
      "Scraping top repositories for \"Azure\"\n",
      "Scraping top repositories for \"Babel\"\n",
      "Scraping top repositories for \"Bash\"\n",
      "Scraping top repositories for \"Bitcoin\"\n",
      "Scraping top repositories for \"Bootstrap\"\n",
      "Scraping top repositories for \"Bot\"\n",
      "Scraping top repositories for \"C\"\n",
      "Scraping top repositories for \"Chrome\"\n",
      "Scraping top repositories for \"Chrome extension\"\n",
      "Scraping top repositories for \"Command line interface\"\n",
      "Scraping top repositories for \"Clojure\"\n",
      "Scraping top repositories for \"Code quality\"\n",
      "Scraping top repositories for \"Code review\"\n",
      "Scraping top repositories for \"Compiler\"\n",
      "Scraping top repositories for \"Continuous integration\"\n",
      "Scraping top repositories for \"COVID-19\"\n",
      "Scraping top repositories for \"C++\"\n"
     ]
    }
   ],
   "source": [
    "scrape_github_topics()"
   ]
  },
  {
   "cell_type": "markdown",
   "id": "3961a5ae",
   "metadata": {},
   "source": [
    "#### Lets check the content of the CSV matches with the dataframe or not"
   ]
  },
  {
   "cell_type": "markdown",
   "id": "22564b7b",
   "metadata": {},
   "source": [
    "Importing CSV content into `content_csv_df` using pandas"
   ]
  },
  {
   "cell_type": "code",
   "execution_count": 12,
   "id": "eaa832c9",
   "metadata": {},
   "outputs": [
    {
     "data": {
      "text/html": [
       "<div>\n",
       "<style scoped>\n",
       "    .dataframe tbody tr th:only-of-type {\n",
       "        vertical-align: middle;\n",
       "    }\n",
       "\n",
       "    .dataframe tbody tr th {\n",
       "        vertical-align: top;\n",
       "    }\n",
       "\n",
       "    .dataframe thead th {\n",
       "        text-align: right;\n",
       "    }\n",
       "</style>\n",
       "<table border=\"1\" class=\"dataframe\">\n",
       "  <thead>\n",
       "    <tr style=\"text-align: right;\">\n",
       "      <th></th>\n",
       "      <th>Username</th>\n",
       "      <th>Repo Name</th>\n",
       "      <th>Repo URL</th>\n",
       "      <th>Stars</th>\n",
       "    </tr>\n",
       "  </thead>\n",
       "  <tbody>\n",
       "    <tr>\n",
       "      <th>0</th>\n",
       "      <td>mrdoob</td>\n",
       "      <td>three.js</td>\n",
       "      <td>https://github.com/topics/mrdoob/three.js</td>\n",
       "      <td>92600</td>\n",
       "    </tr>\n",
       "    <tr>\n",
       "      <th>1</th>\n",
       "      <td>pmndrs</td>\n",
       "      <td>react-three-fiber</td>\n",
       "      <td>https://github.com/topics/pmndrs/react-three-f...</td>\n",
       "      <td>22900</td>\n",
       "    </tr>\n",
       "    <tr>\n",
       "      <th>2</th>\n",
       "      <td>libgdx</td>\n",
       "      <td>libgdx</td>\n",
       "      <td>https://github.com/topics/libgdx/libgdx</td>\n",
       "      <td>21600</td>\n",
       "    </tr>\n",
       "    <tr>\n",
       "      <th>3</th>\n",
       "      <td>BabylonJS</td>\n",
       "      <td>Babylon.js</td>\n",
       "      <td>https://github.com/topics/BabylonJS/Babylon.js</td>\n",
       "      <td>20800</td>\n",
       "    </tr>\n",
       "    <tr>\n",
       "      <th>4</th>\n",
       "      <td>ssloy</td>\n",
       "      <td>tinyrenderer</td>\n",
       "      <td>https://github.com/topics/ssloy/tinyrenderer</td>\n",
       "      <td>17100</td>\n",
       "    </tr>\n",
       "  </tbody>\n",
       "</table>\n",
       "</div>"
      ],
      "text/plain": [
       "    Username          Repo Name  \\\n",
       "0     mrdoob           three.js   \n",
       "1     pmndrs  react-three-fiber   \n",
       "2     libgdx             libgdx   \n",
       "3  BabylonJS         Babylon.js   \n",
       "4      ssloy       tinyrenderer   \n",
       "\n",
       "                                            Repo URL  Stars  \n",
       "0          https://github.com/topics/mrdoob/three.js  92600  \n",
       "1  https://github.com/topics/pmndrs/react-three-f...  22900  \n",
       "2            https://github.com/topics/libgdx/libgdx  21600  \n",
       "3     https://github.com/topics/BabylonJS/Babylon.js  20800  \n",
       "4       https://github.com/topics/ssloy/tinyrenderer  17100  "
      ]
     },
     "execution_count": 12,
     "metadata": {},
     "output_type": "execute_result"
    }
   ],
   "source": [
    "content_csv_df = pd.read_csv('data/3d.csv')\n",
    "content_csv_df.head(5)"
   ]
  },
  {
   "cell_type": "markdown",
   "id": "3178a49b",
   "metadata": {},
   "source": [
    "Getting dataframe using our function `get_repo_info(url)`"
   ]
  },
  {
   "cell_type": "code",
   "execution_count": 13,
   "id": "8bd0349c",
   "metadata": {},
   "outputs": [
    {
     "data": {
      "text/html": [
       "<div>\n",
       "<style scoped>\n",
       "    .dataframe tbody tr th:only-of-type {\n",
       "        vertical-align: middle;\n",
       "    }\n",
       "\n",
       "    .dataframe tbody tr th {\n",
       "        vertical-align: top;\n",
       "    }\n",
       "\n",
       "    .dataframe thead th {\n",
       "        text-align: right;\n",
       "    }\n",
       "</style>\n",
       "<table border=\"1\" class=\"dataframe\">\n",
       "  <thead>\n",
       "    <tr style=\"text-align: right;\">\n",
       "      <th></th>\n",
       "      <th>Username</th>\n",
       "      <th>Repo Name</th>\n",
       "      <th>Repo URL</th>\n",
       "      <th>Stars</th>\n",
       "    </tr>\n",
       "  </thead>\n",
       "  <tbody>\n",
       "    <tr>\n",
       "      <th>0</th>\n",
       "      <td>mrdoob</td>\n",
       "      <td>three.js</td>\n",
       "      <td>https://github.com/topics/mrdoob/three.js</td>\n",
       "      <td>92600</td>\n",
       "    </tr>\n",
       "    <tr>\n",
       "      <th>1</th>\n",
       "      <td>pmndrs</td>\n",
       "      <td>react-three-fiber</td>\n",
       "      <td>https://github.com/topics/pmndrs/react-three-f...</td>\n",
       "      <td>22900</td>\n",
       "    </tr>\n",
       "    <tr>\n",
       "      <th>2</th>\n",
       "      <td>libgdx</td>\n",
       "      <td>libgdx</td>\n",
       "      <td>https://github.com/topics/libgdx/libgdx</td>\n",
       "      <td>21600</td>\n",
       "    </tr>\n",
       "    <tr>\n",
       "      <th>3</th>\n",
       "      <td>BabylonJS</td>\n",
       "      <td>Babylon.js</td>\n",
       "      <td>https://github.com/topics/BabylonJS/Babylon.js</td>\n",
       "      <td>20800</td>\n",
       "    </tr>\n",
       "    <tr>\n",
       "      <th>4</th>\n",
       "      <td>ssloy</td>\n",
       "      <td>tinyrenderer</td>\n",
       "      <td>https://github.com/topics/ssloy/tinyrenderer</td>\n",
       "      <td>17100</td>\n",
       "    </tr>\n",
       "  </tbody>\n",
       "</table>\n",
       "</div>"
      ],
      "text/plain": [
       "    Username          Repo Name  \\\n",
       "0     mrdoob           three.js   \n",
       "1     pmndrs  react-three-fiber   \n",
       "2     libgdx             libgdx   \n",
       "3  BabylonJS         Babylon.js   \n",
       "4      ssloy       tinyrenderer   \n",
       "\n",
       "                                            Repo URL  Stars  \n",
       "0          https://github.com/topics/mrdoob/three.js  92600  \n",
       "1  https://github.com/topics/pmndrs/react-three-f...  22900  \n",
       "2            https://github.com/topics/libgdx/libgdx  21600  \n",
       "3     https://github.com/topics/BabylonJS/Babylon.js  20800  \n",
       "4       https://github.com/topics/ssloy/tinyrenderer  17100  "
      ]
     },
     "execution_count": 13,
     "metadata": {},
     "output_type": "execute_result"
    }
   ],
   "source": [
    "get_repo_info(f'{base_url}/3d').head(5)"
   ]
  },
  {
   "cell_type": "markdown",
   "id": "3e0d0416",
   "metadata": {},
   "source": [
    "___Both the content matches which shows that our data is correct hence we can use the given data for further use___"
   ]
  },
  {
   "cell_type": "markdown",
   "id": "490b3d8f",
   "metadata": {},
   "source": [
    "## References\n"
   ]
  },
  {
   "cell_type": "markdown",
   "id": "d0667758",
   "metadata": {},
   "source": [
    "- [Building a Python Web Scraping Project From Scratch](https://jovian.com/aakashns/python-web-scraping-project-guide)\n",
    "- [Github Topics](https://github.com/topics)\n",
    "- [Beautiful Soup Documentation](https://www.crummy.com/software/BeautifulSoup/bs4/doc/#calling-a-tag-is-like-calling-find-all)\n",
    "- [Building Webscrapping project by Jovian](https://www.youtube.com/live/RKsLLG-bzEY?feature=share)"
   ]
  },
  {
   "cell_type": "code",
   "execution_count": null,
   "id": "58e908f7",
   "metadata": {},
   "outputs": [],
   "source": []
  }
 ],
 "metadata": {
  "kernelspec": {
   "display_name": "Python 3 (ipykernel)",
   "language": "python",
   "name": "python3"
  },
  "language_info": {
   "codemirror_mode": {
    "name": "ipython",
    "version": 3
   },
   "file_extension": ".py",
   "mimetype": "text/x-python",
   "name": "python",
   "nbconvert_exporter": "python",
   "pygments_lexer": "ipython3",
   "version": "3.9.12"
  }
 },
 "nbformat": 4,
 "nbformat_minor": 5
}
